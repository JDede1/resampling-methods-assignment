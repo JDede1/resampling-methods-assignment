{
 "cells": [
  {
   "cell_type": "markdown",
   "metadata": {
    "id": "RztTuHNRd1-a"
   },
   "source": [
    "# WEEK2: Resampling Methods"
   ]
  },
  {
   "cell_type": "markdown",
   "metadata": {
    "id": "G4ZhCI5PJtrO"
   },
   "source": [
    "# Objective"
   ]
  },
  {
   "cell_type": "markdown",
   "metadata": {
    "id": "3a2z43jfJwUY"
   },
   "source": [
    "This homework sheet will help reviewing the basic concepts associated with model selection and regularization. Please review the lectures, suggested readings, and additional resources _before_ getting started on the HW."
   ]
  },
  {
   "cell_type": "markdown",
   "metadata": {
    "id": "iwhWEDxUeICJ"
   },
   "source": [
    "**Some questions in this assignment will require you to conduct independent research beyond the material covered in the recorded content.**"
   ]
  },
  {
   "cell_type": "markdown",
   "metadata": {
    "id": "UrLG-psXJ7Rw"
   },
   "source": [
    "**Questions**\n",
    "\n",
    " This homework is divided into two main parts. First, a conceptual component will review the basic concepts related to resampling. The second part of the homework is mostly intended to be a brief introduction to regularization methods and resampling in python . Several of these questions are modified from James et al. (2021)."
   ]
  },
  {
   "cell_type": "markdown",
   "metadata": {
    "id": "PmqLj5qMeQdT"
   },
   "source": [
    "Marks Distribution"
   ]
  },
  {
   "cell_type": "markdown",
   "metadata": {
    "id": "TyEe9srieW8r"
   },
   "source": [
    "| Question      | Marks |\n",
    "| ----------- | ----------- |\n",
    "| Q1a    | 1     |\n",
    "| Q1b    | 0.50      |\n",
    "| Q1c   | 1      |\n",
    "| Q1d     | 0.50      |\n",
    "| Q1e     | 0.50     |\n",
    "| Q1f    | 0.50    |\n",
    "| Q2a    | 1     |\n",
    "| Q2b    | 1      |\n",
    "| Q2c   | 1      |\n",
    "| Q2d     | 1      |\n",
    "| Q3a   | 1    |\n",
    "| Q3b     | 1      |\n",
    "| Q4     | 1      |\n",
    "| Q5a    | 1    |\n",
    "| Q5b    | 1     |\n",
    "| Q5c   | 1     |\n",
    "| Q5d     | 1      |"
   ]
  },
  {
   "cell_type": "markdown",
   "metadata": {
    "id": "HSAHcEeQJ9Fs"
   },
   "source": [
    "# Conceptual"
   ]
  },
  {
   "cell_type": "markdown",
   "metadata": {
    "id": "dhRS_zVwKM8m"
   },
   "source": [
    "##  Q1. We will derive the probability that a given observation is part of a bootstrap sample. Suppose that we obtain a bootstrap sample from a set of `n` observations. **Please note that samples are obtained with replacement**."
   ]
  },
  {
   "cell_type": "markdown",
   "metadata": {
    "id": "7gy8fX2tpS79"
   },
   "source": [
    "### a) What is the probability that the first bootstrap observation is not the $jth$ observation from the original sample? Justify your answer."
   ]
  },
  {
   "cell_type": "markdown",
   "metadata": {
    "id": "V2wd-2DJuYJX"
   },
   "source": [
    "Provide your answer in this Markdown cell\n",
    "\n",
    "The probability that the first observation in the bootstrap sample is not the 𝑗𝑡ℎ observation from the original sample can be calculated as follows:\n",
    "\n",
    "Suppose we have 'n' observations, the probability that we select any specific observation (e.g. the jth one) is 1/n. Therefore, the probability that we do not select the jth observation is 1 - 1/n or (n-1)/n."
   ]
  },
  {
   "cell_type": "markdown",
   "metadata": {
    "id": "ekeUZKAaufvk"
   },
   "source": [
    "### b) What is the probability that the second bootstrap observation is not the $jth$ observation from the original sample?\n",
    "\n"
   ]
  },
  {
   "cell_type": "markdown",
   "metadata": {
    "id": "N-j_koZDrvhz"
   },
   "source": [
    " Provide your answer in this Markdown cell\n",
    " \n",
    "There are 'n' observations. So for the second observation, the probability of it being the 𝑗𝑡ℎ observation from the original sample is also 1/n. This is because bootstrap sampling is done with replacement, which means after each draw, the observation is put back in the dataset. Therefore, each draw is independent of the others. \n",
    "Therefore, the probability that the second bootstrap observation is not the 𝑗𝑡ℎ observation from the original sample is 1 - 1/n or (n-1)/n."
   ]
  },
  {
   "cell_type": "markdown",
   "metadata": {
    "id": "w7XSUDdGulBi"
   },
   "source": [
    "###  c) Argue that the probability that the $jth$ observation is not in the bootstrap sample is $(1 − 1/n)^n$."
   ]
  },
  {
   "cell_type": "markdown",
   "metadata": {
    "id": "oVkgOBX_tDDq"
   },
   "source": [
    "Provide your answer in this Markdown cell\n",
    "\n",
    "The probability that the 𝑗𝑡ℎ observation is not in the bootstrap sample is ((1 - 1/n)ⁿ can be argued as follows:\n",
    "\n",
    "- A bootstrap sample is a random sample of size n drawn with replacement from the original sample of size n.\n",
    "- The probability that any given observation is selected in a bootstrap sample is 1/n (each observation has an equal chance of being chosen).\n",
    "- The probability that any given observation is not selected in a bootstrap sample is 1−1/n.\n",
    "- The probability that any given observation is not selected in any of the n draws of a bootstrap sample is (1 - 1/n)ⁿ, since each draw is independent and the probabilities are multiplied.\n",
    "- Therefore, the probability that the 𝑗𝑡ℎ observation is not in the bootstrap sample is (1 - 1/n)ⁿ, regardless of the value of j."
   ]
  },
  {
   "cell_type": "markdown",
   "metadata": {
    "id": "dc370xrFupXo"
   },
   "source": [
    "###  d) When `n = 5`, what is the probability that the $jth$ observation is in the bootstrap sample?"
   ]
  },
  {
   "cell_type": "markdown",
   "metadata": {
    "id": "J5juavMztOI7"
   },
   "source": [
    "Provide your answer in this Markdown cell\n",
    "\n",
    "The probability that the 𝑗𝑡ℎ observation is not in the bootstrap sample after n draws is (1 - 1/n)ⁿ. So, when n = 5, the probability that the 𝑗𝑡ℎ observation is not in the bootstrap sample is (1 - 1/5)⁵ = (4/5)⁵ ≈ 0.32768."
   ]
  },
  {
   "cell_type": "markdown",
   "metadata": {
    "id": "hgp34gdCkzRb"
   },
   "source": [
    "### e) When `n = 100`, what is the probability that the $jth$ observation is in the bootstrap sample?"
   ]
  },
  {
   "cell_type": "markdown",
   "metadata": {
    "id": "uFx80ZiUrNOl"
   },
   "source": [
    "Provide your answer in this Markdown cell\n",
    "\n",
    "The probability that the 𝑗𝑡ℎ observation is not in the bootstrap sample after n draws is (1 - 1/n)ⁿ.\n",
    "\n",
    "So, when n = 100, the probability that the 𝑗𝑡ℎ observation is not in the bootstrap sample is calculated below: \n",
    "(1 - 1/100)¹⁰⁰ = (99/100)¹⁰⁰ ≈ 0.36603. \n",
    "\n",
    "Therefore, the probability that the 𝑗𝑡ℎ observation is in the bootstrap sample is 1 - 0.36603 = 0.63397, or approximately 63.397%."
   ]
  },
  {
   "cell_type": "markdown",
   "metadata": {
    "id": "Fml00xhEr1t-"
   },
   "source": [
    "### f) When `n = 1000`, what is the probability that the $jth$ observation is in the bootstrap sample?\n"
   ]
  },
  {
   "cell_type": "markdown",
   "metadata": {
    "id": "9Jtododpr8GH"
   },
   "source": [
    "Provide your answer in this Markdown cell\n",
    "\n",
    "The probability that the 𝑗𝑡ℎ observation is not in the bootstrap sample after n draws is (1 - 1/n)ⁿ.\n",
    "\n",
    "So, when n = 1000, the probability that the 𝑗𝑡ℎ observation is not in the bootstrap sample is (1 - 1/1000)¹⁰⁰⁰ = (999/1000)¹⁰⁰⁰ ≈ 0.36770.\n",
    "\n",
    "Therefore, the probability that the 𝑗𝑡ℎ observation is in the bootstrap sample is 1 - 0.36770 = 0.63230, or approximately 63.230%.\n"
   ]
  },
  {
   "cell_type": "markdown",
   "metadata": {
    "id": "xnw4bPR4uQgy"
   },
   "source": [
    "## Q2)\n",
    "The following questions are relative to k-fold cross-validation."
   ]
  },
  {
   "cell_type": "markdown",
   "metadata": {
    "id": "L_KugOLmuuH7"
   },
   "source": [
    "### a) Explain how k-fold cross-validation is implemented.\n"
   ]
  },
  {
   "cell_type": "markdown",
   "metadata": {
    "id": "hA1M81a-uAQV"
   },
   "source": [
    "Provide your answer in this Markdown cell\n",
    "\n",
    "K-fold cross-validation is a technique used to assess the performance of a machine learning model, especially in situations where you have a limited amount of data. It helps you estimate how well your model will perform on unseen data. Here's how it's implemented: \n",
    "\n",
    "1. The first step is to Shuffle the dataset randomly. This helsps to ensure that it's not ordered biased way.\n",
    "\n",
    "2. Split the dataset into k groups or folds: For example, if you have 200 samples and you’re doing 5-fold cross validation, you’d end up with 5 folds each containing 40 samples.\n",
    "\n",
    "3. Iteration: The next step is to perform K iterations (or \"folds\"). In each iteration, one of the K subsets is chosen as the test set, and the remaining K-1 subsets are combined to form the training set.\n",
    "\n",
    "4. Model Training and Testing: In each iteration, you train your machine learning model on the training set (K-1 folds) and then evaluate its performance on the test set (the one remaining fold). This gives you a performance measure for that fold. \n",
    "\n",
    "\n",
    "5. Performance Metrics: Typically, you use a performance metric (e.g., accuracy, F1 score, mean squared error) to assess how well the model performed on the test set in each fold. The metric provides a quantitative measure of the model's performance.\n",
    "\n",
    "6. Average Performance: After completing all K iterations, you will have K different performance scores. To get an overall assessment of your model's performance, you can calculate the average of these K scores. This average performance score gives you an estimate of how your model is likely to perform on unseen data.\n",
    "\n",
    "7. Bias-Variance Tradeoff: K-fold cross-validation helps you assess the bias and variance of your model. If the performance scores across the K iterations vary significantly, it may indicate a high variance problem. If the scores are consistently low, it may indicate a high bias problem.\n",
    "\n",
    "8. Hyperparameter Tuning: K-fold cross-validation is often used in conjunction with hyperparameter tuning. You can use it to evaluate different hyperparameter settings for your model and choose the ones that result in the best cross-validated performance.\n",
    "\n",
    "9. Final Model: After hyperparameter tuning and model evaluation, you can train your final model on the entire dataset using the best hyperparameters you found during cross-validation.\n",
    "\n",
    "\n",
    "References: \n",
    "\n",
    "https://www.analyticsvidhya.com/blog/2022/02/k-fold-cross-validation-technique-and-its-essentials/\n",
    "\n",
    "https://medium.com/@zstern/k-fold-cross-validation-explained-5aeba90ebb3"
   ]
  },
  {
   "cell_type": "markdown",
   "metadata": {
    "id": "0mWYYql2uVOV"
   },
   "source": [
    "### b) How would you choose the analyzed k? Does that matter?"
   ]
  },
  {
   "cell_type": "markdown",
   "metadata": {
    "id": "h92wGq8qxRaK"
   },
   "source": [
    "Provide your answer in this Markdown cell\n",
    "\n",
    "a. Choosing the value of \"k\" in k-fold cross-validation is an important decision, as it can impact the reliability of your model evaluation. The choice of \"k\" depends on several factors, including the size of your dataset, computational resources, and the trade-off between bias and variance in your performance estimate. Here are some guidelines for choosing an appropriate value for \"k\":\n",
    "\n",
    "1. Small Datasets: If you have a small dataset, it's often recommended to use a larger value for \"k\" to make the most of your limited data. A common choice is k=10. This provides a good balance between model assessment and data utilization. However, be cautious not to choose a value of \"k\" that's larger than the size of your dataset, as it may lead to each fold being too small to provide reliable estimates.\n",
    "\n",
    "2. Larger Datasets: If you have a relatively large dataset, you can use smaller values of \"k\" like k=5. This reduces the computational overhead of running cross-validation while still providing a reasonably accurate estimate of your model's performance.\n",
    "\n",
    "3. k = Leave-One-Out (LOO): In the special case of LOO cross-validation (k equal to the number of data points), each data point is used as a test set exactly once. This provides the least biased estimate but can be computationally expensive, especially for large datasets. LOO is often used when you have a small dataset, or when it's essential to minimize bias in your performance estimate.\n",
    "\n",
    "4. Stratified k-Fold: In classification problems with imbalanced classes, consider using stratified k-fold cross-validation. This ensures that each fold maintains the same class distribution as the original dataset, reducing the risk of having some folds with very few or no instances of certain classes.\n",
    "\n",
    "5. Cross-Validation Goals: If your primary goal is hyperparameter tuning, a smaller K may be more efficient, as it requires fewer model training and evaluation cycles. \n",
    "If you are more concerned about assessing how well your model will generalize to unseen data, a larger K can provide a better estimate of your model's performance.\n",
    "\n",
    "\n",
    "b. The choice of \"k\" in k-fold cross-validation does matter and can impact the results and assessments of your machine learning model. The value of \"k\" affects several aspects of the cross-validation process, and it's important to consider these factors when deciding on an appropriate value for your specific problem. Here's why the choice of \"k\" matters:\n",
    "\n",
    "1. Bias-Variance Tradeoff: The value of \"k\" affects the bias-variance tradeoff in your cross-validation estimate. The choice of \"k\" should align with your objectives. If you prioritize low bias, use smaller \"k\"; or if you want more stable estimates, use larger \"k.\"\n",
    "\n",
    "2. Data Utilization: The choice of \"k\" determines how your dataset is split into training and test sets. With smaller \"k,\" a larger proportion of your data is used for testing, potentially providing more representative performance estimates for your model. Larger \"k\" values use less data for testing in each fold, which can lead to more conservative performance estimates.\n",
    "\n",
    "3. Computational Resources: Larger \"k\" values result in more iterations of model training and testing, which can be computationally expensive. If you have limited computational resources, you may need to choose a smaller \"k\" to ensure that your cross-validation process can be completed in a reasonable time.\n",
    "\n",
    "\n",
    "Reference: \n",
    "\n",
    "https://stats.stackexchange.com/questions/27730/choice-of-k-in-k-fold-cross-validation \n",
    "\n",
    "https://machinelearningmastery.com/how-to-configure-k-fold-cross-validation/ \n",
    "\n",
    "https://www.shiksha.com/online-courses/articles/how-to-set-the-value-of-k-in-k-fold-cross-validation/ \n",
    "\n",
    "https://towardsdatascience.com/what-is-k-fold-cross-validation-5a7bb241d82f\n"
   ]
  },
  {
   "cell_type": "markdown",
   "metadata": {
    "id": "7_mY8zwiyr0a"
   },
   "source": [
    "### c) What are the advantages and disadvantages of k-fold cross-validation relative to: *The validation set* approach?\n"
   ]
  },
  {
   "cell_type": "markdown",
   "metadata": {
    "id": "9hQ1d-2fxsCB"
   },
   "source": [
    "Provide your answer in this Markdown cell\n",
    "\n",
    "K-fold cross-validation and the validation set approach are both methods used to assess the performance of a machine learning model. Each approach has its own advantages and disadvantages, and the choice between them depends on the specific requirements and constraints of your project. Here's a comparison of the two:\n",
    "\n",
    "Validation Set Approach:\n",
    "\n",
    "Advantages:\n",
    "\n",
    "1. Simplicity: The validation set approach is straightforward and easy to implement. You split your data into a training set and a single validation set, making it conceptually simple.\n",
    "\n",
    "2. Computationally Efficient: Since you train the model only once on the training set and validate it on the validation set, it's computationally efficient, especially for large datasets.\n",
    "\n",
    "*Disadvantages:*\n",
    "\n",
    "1. Bias: The model's performance estimate can be biased because it's highly dependent on the random split of the data into training and validation sets. The specific split might not be representative of the entire dataset.\n",
    "\n",
    "2. Limited Data Utilization: The primary drawback of the validation set approach is that it can lead to inefficient data utilization as you don't make full use of your data for model assessment. This can be a problem when you have a limited dataset, and you might get unreliable performance estimates.\n",
    "\n",
    "3. Risk of Overfitting: With a single validation set, there's a higher risk of overfitting to the specific characteristics of that set, as it's not representative of the entire dataset. This is especially problematic with small datasets.\n",
    "\n",
    "\n",
    "K-Fold Cross-Validation:\n",
    "\n",
    "Advantages:\n",
    "\n",
    "1. Reduced Bias: K-fold cross-validation reduces bias in model evaluation. By repeatedly partitioning the data into multiple folds and averaging the results, it provides a more robust estimate of the model's performance.\n",
    "\n",
    "2. Better Data Utilization: K-fold cross-validation uses your data more efficiently as it allows you to use all the data for both training and testing. Each data point is part of the test set exactly once, allowing you to make the most out of your dataset.\n",
    "\n",
    "3. Model Assessment Stability: The results are more stable because they are averaged over multiple folds, reducing the impact of a single random split.\n",
    "\n",
    "4. Suitable for Hyperparameter Tuning: K-fold cross-validation is often used in hyperparameter tuning. It allows a better evaluation of the model's performance across different hyperparameter settings, while minimizing the risk of overfitting.\n",
    "\n",
    "Disadvantages:\n",
    "\n",
    "1. Computational Cost: K-fold cross-validation is computationally more expensive than the validation set approach because you train and validate the model multiple times, especially for large datasets (Large \"k\" or complex model).\n",
    "\n",
    "2. Complexity: It introduces more complexity compared to the validation set approach, as you need to implement the splitting and evaluation process for K iterations.\n",
    "\n",
    "3. Variability: The estimates of the model's performance can still be somewhat variable depending on the choice of \"k\" and the randomness involved in data splitting.\n",
    "\n",
    "References:\n",
    "\n",
    "https://www.statology.org/k-fold-cross-validation/"
   ]
  },
  {
   "cell_type": "markdown",
   "metadata": {
    "id": "VS2s6Jz23i5d"
   },
   "source": [
    "### d)  What are the advantages and disadvantages of k-fold cross-validation relative to: *LOOCV*?"
   ]
  },
  {
   "cell_type": "markdown",
   "metadata": {
    "id": "FGYQZ87y729n"
   },
   "source": [
    "Provide your answer in this Markdown cell\n",
    "\n",
    "K-fold cross-validation and leave-one-out cross-validation (LOOCV) are two common methods to evaluate the performance of a machine learning model. They have different advantages and disadvantages relative to each other.\n",
    "\n",
    "Some of the advantages of k-fold cross-validation are:\n",
    "\n",
    "- It reduces the variance of the test error estimate compared to LOOCV, because it uses larger training sets and less overlapping samples.\n",
    "- It is computationally more efficient than LOOCV, because it requires fewer model fits and evaluations.\n",
    "- It allows us to choose the optimal value of k that balances the bias-variance trade-off.\n",
    "\n",
    "Some of the disadvantages of k-fold cross-validation are:\n",
    "\n",
    "- It introduces some bias into the test error estimate, because it trains the model on less data than LOOCV.\n",
    "- It depends on the chosen split of the data, which can affect the results.\n",
    "- It may not work well for imbalanced datasets, where some classes are underrepresented or overrepresented.\n",
    "\n",
    "Some of the advantages of LOOCV are:\n",
    "\n",
    "- It has the lowest bias of any cross-validation method, because it trains the model on almost all the data.\n",
    "- It does not depend on the random partition of the data, because it uses every sample as a test set once.\n",
    "- It works well for small datasets, where every sample is valuable for training and testing.\n",
    "\n",
    "Some of the disadvantages of LOOCV are:\n",
    "\n",
    "- It has the highest variance of any cross-validation method, because it uses highly similar training sets that can lead to overfitting.\n",
    "- It is computationally very expensive, because it requires as many model fits and evaluations as there are samples in the dataset.\n",
    "- It may not work well for large datasets, where some samples may be noisy or irrelevant for the model.\n",
    "\n",
    "References: \n",
    "\n",
    "https://machinelearningmastery.com/loocv-for-evaluating-machine-learning-algorithms/\n",
    "\n",
    "https://towardsdatascience.com/what-is-cross-validation-622d5a962231\n",
    "\n",
    "https://shangding.medium.com/cross-validation-techniques-k-fold-cross-validation-vs-leave-one-out-cross-validation-2dcfb7d5deb3"
   ]
  },
  {
   "cell_type": "markdown",
   "metadata": {
    "id": "5HVFDHDqS5dT"
   },
   "source": [
    "# Applied"
   ]
  },
  {
   "cell_type": "markdown",
   "metadata": {
    "id": "vZxb-dffwoc7"
   },
   "source": [
    "We have to use college dataset to answer the questions given in the notebook"
   ]
  },
  {
   "cell_type": "markdown",
   "metadata": {
    "id": "08u7KItt3nTz"
   },
   "source": [
    "## Q3)"
   ]
  },
  {
   "cell_type": "markdown",
   "metadata": {
    "id": "QPXoXSVpNE5c"
   },
   "source": [
    "### a) What is the following code supposed to do?"
   ]
  },
  {
   "cell_type": "code",
   "execution_count": 1,
   "metadata": {
    "id": "pv3RUA5OrUqK"
   },
   "outputs": [],
   "source": [
    "import numpy as np\n",
    "import pandas as pd\n",
    "from sklearn.linear_model import LinearRegression\n",
    "from sklearn.preprocessing import PolynomialFeatures\n",
    "from sklearn.model_selection import KFold\n",
    "import matplotlib.pyplot as plt\n",
    "\n",
    "# Define constants\n",
    "N = 100\n",
    "ORDER = 2\n",
    "N_FOLDS = 20\n",
    "POLY_DEGREE = np.arange(1, 11)\n",
    "N_REPLICATES = 10\n",
    "\n",
    "# Set random seed for reproducibility\n",
    "np.random.seed(123)\n",
    "\n",
    "# Generate simulated data\n",
    "x = np.random.uniform(low=-4, high=4, size=N)\n",
    "y = np.random.normal(loc=x**ORDER, scale=0.25, size=N)\n",
    "data = pd.DataFrame({'x': x, 'y': y})\n",
    "\n",
    "# Run multiple replicates and average the MSE estimates\n",
    "mse_estimates = np.zeros((N_REPLICATES, len(POLY_DEGREE)))\n",
    "for r in range(N_REPLICATES):\n",
    "    kf = KFold(n_splits=N_FOLDS, shuffle=True)\n",
    "    indices = [(train_index, test_index) for train_index, test_index in kf.split(data)]\n",
    "    for q_idx, q in enumerate(POLY_DEGREE):\n",
    "        y_hat = np.zeros(N)\n",
    "        for train_index, test_index in indices:\n",
    "            # Fit on K-1 folds\n",
    "            x_train, y_train = data.iloc[train_index]['x'], data.iloc[train_index]['y']\n",
    "            poly = PolynomialFeatures(degree=q)\n",
    "            x_train_poly = poly.fit_transform(x_train.values.reshape(-1, 1))\n",
    "            lin_reg = LinearRegression()\n",
    "            lin_reg.fit(x_train_poly, y_train)\n",
    "\n",
    "            # Predict on the kth fold\n",
    "            x_test = data.iloc[test_index]['x']\n",
    "            x_test_poly = poly.transform(x_test.values.reshape(-1, 1))\n",
    "            y_hat[test_index] = lin_reg.predict(x_test_poly)\n",
    "\n",
    "        # Get the MSE estimate\n",
    "        mse_estimate = np.mean((y_hat - data['y'])**2)\n",
    "        mse_estimates[r, q_idx] = mse_estimate\n",
    "\n",
    "# Average the MSE estimates across replicates\n",
    "mse_mean = np.mean(mse_estimates, axis=0)\n",
    "mse_std = np.std(mse_estimates, axis=0)"
   ]
  },
  {
   "cell_type": "markdown",
   "metadata": {
    "id": "DoI7d3EYj6L2"
   },
   "source": [
    "Provide your answer in this Markdown cell\n",
    "\n",
    "The purpose of this code is to illustrate how increasing the degree of the polynomial can lead to overfitting. The code performs polynomial regression models of different degrees on simulated data. It repeats this process for multiple replicates to the best estimate of the MSE for each degree of the polynomial model. The final result is the average MSE and its standard deviation for each degree in the specified range. \n",
    "\n",
    "Here's a step-by-step breakdown:\n",
    "\n",
    "1. Simulated Data Generation: The code first generates a dataset of N=100 points, where the 'x' values are drawn from a uniform distribution between -4 and 4, and the 'y' values are generated from a normal distribution centered around x^ORDER (where ORDER=2). This means that the true relationship between 'x' and 'y' is quadratic, with some added noise.\n",
    "\n",
    "2. Cross-Validated Polynomial Regression: The code then performs polynomial regression of varying degrees (from 1 to 10) on the dataset. For each degree, it uses K-Fold cross-validation (with N_FOLDS=20) to estimate the mean squared error (MSE). This process is repeated N_REPLICATES=10 times.\n",
    "\n",
    "3. Model Evaluation: Finally, the code calculates the mean and standard deviation of the MSE estimates across all replicates for each polynomial degree.\n",
    "\n"
   ]
  },
  {
   "cell_type": "markdown",
   "metadata": {
    "id": "aOwxNWf_NcOO"
   },
   "source": [
    " ### b) To the best of your knowledge, improve the structure, content, clarity, and reproducibility of the code presented before in \"part a\" of this question (e.g. would you run a single or multiple replicates?). Fix any mistakes (if you find any). Finally, generate at least two plots summarizing your findings regarding the best-fitting polynomial order on the simulated dataset (also from \"part a\"): (1) MSE vs polynomial order, and (2) x vs y, along with a plot of the selected model."
   ]
  },
  {
   "cell_type": "code",
   "execution_count": 2,
   "metadata": {
    "id": "lv3xMCqlqqaC"
   },
   "outputs": [],
   "source": [
    "# BEGIN SOLUTION\n",
    "\n",
    "import numpy as np\n",
    "import pandas as pd\n",
    "from sklearn.linear_model import LinearRegression\n",
    "from sklearn.preprocessing import PolynomialFeatures\n",
    "from sklearn.model_selection import KFold\n",
    "import matplotlib.pyplot as plt\n",
    "\n",
    "# Define constants\n",
    "N = 100\n",
    "ORDER = 2\n",
    "N_FOLDS = 20\n",
    "POLY_DEGREE = np.arange(1, 11)\n",
    "N_REPLICATES = 10\n",
    "\n",
    "# Set random seed for reproducibility\n",
    "np.random.seed(123)\n",
    "\n",
    "# Generate simulated data\n",
    "x = np.random.uniform(low=-4, high=4, size=N)\n",
    "y = np.random.normal(loc=x**ORDER, scale=0.25, size=N)\n",
    "data = pd.DataFrame({'x': x, 'y': y})\n",
    "\n",
    "# Initialize an array to store MSE estimates for different replicates and degrees\n",
    "mse_estimates = np.zeros((N_REPLICATES, len(POLY_DEGREE)))\n",
    "\n",
    "# Loop through replicates\n",
    "for r in range(N_REPLICATES):\n",
    "    kf = KFold(n_splits=N_FOLDS, shuffle=True)\n",
    "    indices = list(kf.split(data))\n",
    "    \n",
    "    # Loop through polynomial degrees\n",
    "    for q_idx, q in enumerate(POLY_DEGREE):\n",
    "        y_hat = np.zeros(N)\n",
    "        \n",
    "        # Split data into K folds and perform polynomial regression\n",
    "        for train_index, test_index in indices:\n",
    "            x_train, y_train = data.iloc[train_index]['x'], data.iloc[train_index]['y']\n",
    "            \n",
    "            # Create polynomial features\n",
    "            poly = PolynomialFeatures(degree=q)\n",
    "            x_train_poly = poly.fit_transform(x_train.values.reshape(-1, 1))\n",
    "            \n",
    "            # Fit linear regression model\n",
    "            lin_reg = LinearRegression()\n",
    "            lin_reg.fit(x_train_poly, y_train)\n",
    "\n",
    "            # Predict on the kth fold\n",
    "            x_test = data.iloc[test_index]['x']\n",
    "            x_test_poly = poly.transform(x_test.values.reshape(-1, 1))\n",
    "            y_hat[test_index] = lin_reg.predict(x_test_poly)\n",
    "\n",
    "        # Calculate the MSE estimate for this replicate and degree\n",
    "        mse_estimate = np.mean((y_hat - data['y'])**2)\n",
    "        mse_estimates[r, q_idx] = mse_estimate\n",
    "\n",
    "# Calculate the mean and standard deviation of MSE estimates across replicates\n",
    "mse_mean = np.mean(mse_estimates, axis=0)\n",
    "mse_std = np.std(mse_estimates, axis=0)\n",
    "\n",
    "# END SOLUTION"
   ]
  },
  {
   "cell_type": "code",
   "execution_count": 3,
   "metadata": {},
   "outputs": [
    {
     "data": {
      "image/png": "[encoded data removed]",
      "text/plain": [
       "<Figure size 800x400 with 1 Axes>"
      ]
     },
     "metadata": {},
     "output_type": "display_data"
    }
   ],
   "source": [
    "# Create the MSE vs. Polynomial Order plot\n",
    "plt.figure(figsize=(8, 4))\n",
    "plt.errorbar(POLY_DEGREE, mse_mean, yerr=mse_std, fmt='o-')\n",
    "plt.title('MSE vs. Polynomial Order')\n",
    "plt.xlabel('Polynomial Order')\n",
    "plt.ylabel('Mean Squared Error (MSE)')\n",
    "plt.xticks(POLY_DEGREE)\n",
    "plt.grid(True)\n",
    "plt.show()\n"
   ]
  },
  {
   "cell_type": "code",
   "execution_count": 4,
   "metadata": {},
   "outputs": [
    {
     "data": {
      "text/plain": [
       "<matplotlib.legend.Legend at 0x1b37621e8e0>"
      ]
     },
     "execution_count": 4,
     "metadata": {},
     "output_type": "execute_result"
    },
    {
     "data": {
      "image/png": "[encoded data removed]",
      "text/plain": [
       "<Figure size 1000x500 with 1 Axes>"
      ]
     },
     "metadata": {},
     "output_type": "display_data"
    }
   ],
   "source": [
    "#Plot data points (x vs. y) and overlay the selected model\n",
    "\n",
    "min_mse_idx = np.argmin(mse_mean)  # Find the index with the lowest MSE\n",
    "selected_poly_degree = POLY_DEGREE[min_mse_idx]  # Select the corresponding polynomial degree\n",
    "\n",
    "x_values = np.linspace(-4, 4, 400)  # Generate x values for plotting the model\n",
    "y_values = x_values**selected_poly_degree  # Generate corresponding y values using the selected model\n",
    "\n",
    "plt.figure(figsize=(10, 5))\n",
    "plt.scatter(data['x'], data['y'], label='Data', color='b', alpha=0.7)\n",
    "plt.plot(x_values, y_values, label=f'Polynomial Degree {selected_poly_degree}', color='r')\n",
    "plt.title('Data Points and Selected Polynomial Model')\n",
    "plt.xlabel('x')\n",
    "plt.ylabel('y')\n",
    "plt.legend()"
   ]
  },
  {
   "cell_type": "markdown",
   "metadata": {
    "id": "aMNw-qL6mKEH"
   },
   "source": [
    "## Q4) Bootstrap the following dataset (`n = 1000`) to obtain median and 95% CI (Confidence interval)for parameter estimates (slope and intercept) summarizing the relationship between `x` and `y_measured.` What happens with median parameter estimates when you examine `y` instead?"
   ]
  },
  {
   "cell_type": "code",
   "execution_count": 5,
   "metadata": {
    "id": "DJ11XwVw1qrm"
   },
   "outputs": [
    {
     "name": "stdout",
     "output_type": "stream",
     "text": [
      "Slope Median: -1.904005611654286\n",
      "Slope 95% Confidence Interval: [-2.0935974  -1.71584364]\n",
      "Intercept Median: 1.2772615938404124\n",
      "Intercept 95% Confidence Interval: [0.79715793 1.7022245 ]\n"
     ]
    }
   ],
   "source": [
    "import numpy as np\n",
    "from numpy.random import default_rng\n",
    "import statsmodels.api as sm\n",
    "from scipy import stats\n",
    "\n",
    "# Set a random seed for reproducibility\n",
    "rng = default_rng(seed=1)\n",
    "nobs = 1000\n",
    "x = rng.normal(size=nobs)\n",
    "y = x - 2 * x**2\n",
    "y_measured = y + rng.normal(size=nobs)\n",
    "\n",
    "# Number of bootstrap iterations\n",
    "n_bootstrap = 1000\n",
    "\n",
    "# Lists to store the bootstrap results\n",
    "bootstrap_slopes = []\n",
    "bootstrap_intercepts = []\n",
    "\n",
    "for _ in range(n_bootstrap):\n",
    "    # Resample with replacement\n",
    "    indices = rng.choice(nobs, size=nobs, replace=True)\n",
    "    x_resampled = x[indices]\n",
    "    y_resampled = y_measured[indices]\n",
    "\n",
    "    # Fit a linear model to the resampled data\n",
    "    X_resampled = sm.add_constant(x_resampled)  # Add a constant (intercept) term\n",
    "    model = sm.OLS(y_resampled, X_resampled).fit()\n",
    "    \n",
    "    # Store the slope and intercept\n",
    "    slope, intercept = model.params\n",
    "    bootstrap_slopes.append(slope)\n",
    "    bootstrap_intercepts.append(intercept)\n",
    "\n",
    "# Calculate the median and confidence intervals\n",
    "slope_median = np.median(bootstrap_slopes)\n",
    "slope_ci = np.percentile(bootstrap_slopes, [2.5, 97.5])\n",
    "\n",
    "intercept_median = np.median(bootstrap_intercepts)\n",
    "intercept_ci = np.percentile(bootstrap_intercepts, [2.5, 97.5])\n",
    "\n",
    "print(\"Slope Median:\", slope_median)\n",
    "print(\"Slope 95% Confidence Interval:\", slope_ci)\n",
    "print(\"Intercept Median:\", intercept_median)\n",
    "print(\"Intercept 95% Confidence Interval:\", intercept_ci)\n",
    "\n",
    "# END SOLUTION"
   ]
  },
  {
   "cell_type": "markdown",
   "metadata": {
    "id": "_skayhIR2F7g"
   },
   "source": [
    "Provide your answer in this Markdown cell\n",
    "\n",
    "In a perfect linear relationship, if x and y were perfectly linearly related, the intercept should be close to 0 because when x is 0, y should be 0. However, the intercept median of 1.277 suggests that the true relationship between x and y appears to be nonlinear. Furthermore, it appears that the linear model is a poor fit as it does not accurately capture the true relationship between x and y. "
   ]
  },
  {
   "cell_type": "markdown",
   "metadata": {
    "id": "ddHcOis8CCoO"
   },
   "source": [
    "## Q5) We will predict the number of applications received using the other variables in the **College dataset.** Please load the relevant dataset first.\n"
   ]
  },
  {
   "cell_type": "markdown",
   "metadata": {
    "id": "musNGH4-p4lf"
   },
   "source": [
    "**Importing Libraries:**"
   ]
  },
  {
   "cell_type": "code",
   "execution_count": 6,
   "metadata": {
    "id": "zGevrqL04Lse"
   },
   "outputs": [],
   "source": [
    "#IMPORT LIBRARIES\n",
    "import numpy as np\n",
    "import pandas as pd\n",
    "from sklearn.model_selection import train_test_split\n",
    "from sklearn.linear_model import LinearRegression\n",
    "from sklearn.metrics import mean_squared_error, r2_score\n",
    "from sklearn.linear_model import Ridge\n",
    "from sklearn.linear_model import Lasso\n",
    "from sklearn.model_selection import cross_val_score\n",
    "from sklearn.linear_model import RidgeCV\n",
    "from sklearn.linear_model import LassoCV"
   ]
  },
  {
   "cell_type": "markdown",
   "metadata": {
    "id": "hKnFyjcjpxm6"
   },
   "source": [
    "**Loading dataset:**"
   ]
  },
  {
   "cell_type": "code",
   "execution_count": 7,
   "metadata": {
    "id": "6-sWON49nV7D"
   },
   "outputs": [],
   "source": [
    "#READ AUTO.CSV DATASET\n",
    "df = pd.read_csv('auto.csv')"
   ]
  },
  {
   "cell_type": "code",
   "execution_count": 8,
   "metadata": {
    "id": "tcRA2D78fLxO"
   },
   "outputs": [
    {
     "data": {
      "text/html": [
       "<div>\n",
       "<style scoped>\n",
       "    .dataframe tbody tr th:only-of-type {\n",
       "        vertical-align: middle;\n",
       "    }\n",
       "\n",
       "    .dataframe tbody tr th {\n",
       "        vertical-align: top;\n",
       "    }\n",
       "\n",
       "    .dataframe thead th {\n",
       "        text-align: right;\n",
       "    }\n",
       "</style>\n",
       "<table border=\"1\" class=\"dataframe\">\n",
       "  <thead>\n",
       "    <tr style=\"text-align: right;\">\n",
       "      <th></th>\n",
       "      <th>mpg</th>\n",
       "      <th>cylinders</th>\n",
       "      <th>displacement</th>\n",
       "      <th>horsepower</th>\n",
       "      <th>weight</th>\n",
       "      <th>acceleration</th>\n",
       "      <th>year</th>\n",
       "      <th>origin</th>\n",
       "      <th>name</th>\n",
       "    </tr>\n",
       "  </thead>\n",
       "  <tbody>\n",
       "    <tr>\n",
       "      <th>0</th>\n",
       "      <td>18.0</td>\n",
       "      <td>8</td>\n",
       "      <td>307.0</td>\n",
       "      <td>130</td>\n",
       "      <td>3504</td>\n",
       "      <td>12.0</td>\n",
       "      <td>70</td>\n",
       "      <td>1</td>\n",
       "      <td>chevrolet chevelle malibu</td>\n",
       "    </tr>\n",
       "    <tr>\n",
       "      <th>1</th>\n",
       "      <td>15.0</td>\n",
       "      <td>8</td>\n",
       "      <td>350.0</td>\n",
       "      <td>165</td>\n",
       "      <td>3693</td>\n",
       "      <td>11.5</td>\n",
       "      <td>70</td>\n",
       "      <td>1</td>\n",
       "      <td>buick skylark 320</td>\n",
       "    </tr>\n",
       "    <tr>\n",
       "      <th>2</th>\n",
       "      <td>18.0</td>\n",
       "      <td>8</td>\n",
       "      <td>318.0</td>\n",
       "      <td>150</td>\n",
       "      <td>3436</td>\n",
       "      <td>11.0</td>\n",
       "      <td>70</td>\n",
       "      <td>1</td>\n",
       "      <td>plymouth satellite</td>\n",
       "    </tr>\n",
       "    <tr>\n",
       "      <th>3</th>\n",
       "      <td>16.0</td>\n",
       "      <td>8</td>\n",
       "      <td>304.0</td>\n",
       "      <td>150</td>\n",
       "      <td>3433</td>\n",
       "      <td>12.0</td>\n",
       "      <td>70</td>\n",
       "      <td>1</td>\n",
       "      <td>amc rebel sst</td>\n",
       "    </tr>\n",
       "    <tr>\n",
       "      <th>4</th>\n",
       "      <td>17.0</td>\n",
       "      <td>8</td>\n",
       "      <td>302.0</td>\n",
       "      <td>140</td>\n",
       "      <td>3449</td>\n",
       "      <td>10.5</td>\n",
       "      <td>70</td>\n",
       "      <td>1</td>\n",
       "      <td>ford torino</td>\n",
       "    </tr>\n",
       "  </tbody>\n",
       "</table>\n",
       "</div>"
      ],
      "text/plain": [
       "    mpg  cylinders  displacement horsepower  weight  acceleration  year  \\\n",
       "0  18.0          8         307.0        130    3504          12.0    70   \n",
       "1  15.0          8         350.0        165    3693          11.5    70   \n",
       "2  18.0          8         318.0        150    3436          11.0    70   \n",
       "3  16.0          8         304.0        150    3433          12.0    70   \n",
       "4  17.0          8         302.0        140    3449          10.5    70   \n",
       "\n",
       "   origin                       name  \n",
       "0       1  chevrolet chevelle malibu  \n",
       "1       1          buick skylark 320  \n",
       "2       1         plymouth satellite  \n",
       "3       1              amc rebel sst  \n",
       "4       1                ford torino  "
      ]
     },
     "execution_count": 8,
     "metadata": {},
     "output_type": "execute_result"
    }
   ],
   "source": [
    "#PERFORM PRE PROCESSING OF DATA IF REQUIRED ( OBSERVE THE DATASET AND ITS VALUES CAREFULLY)\n",
    "df.head()"
   ]
  },
  {
   "cell_type": "code",
   "execution_count": 9,
   "metadata": {},
   "outputs": [
    {
     "data": {
      "text/html": [
       "<div>\n",
       "<style scoped>\n",
       "    .dataframe tbody tr th:only-of-type {\n",
       "        vertical-align: middle;\n",
       "    }\n",
       "\n",
       "    .dataframe tbody tr th {\n",
       "        vertical-align: top;\n",
       "    }\n",
       "\n",
       "    .dataframe thead th {\n",
       "        text-align: right;\n",
       "    }\n",
       "</style>\n",
       "<table border=\"1\" class=\"dataframe\">\n",
       "  <thead>\n",
       "    <tr style=\"text-align: right;\">\n",
       "      <th></th>\n",
       "      <th>mpg</th>\n",
       "      <th>cylinders</th>\n",
       "      <th>displacement</th>\n",
       "      <th>horsepower</th>\n",
       "      <th>weight</th>\n",
       "      <th>acceleration</th>\n",
       "      <th>year</th>\n",
       "      <th>origin</th>\n",
       "      <th>name</th>\n",
       "    </tr>\n",
       "  </thead>\n",
       "  <tbody>\n",
       "    <tr>\n",
       "      <th>392</th>\n",
       "      <td>27.0</td>\n",
       "      <td>4</td>\n",
       "      <td>140.0</td>\n",
       "      <td>86</td>\n",
       "      <td>2790</td>\n",
       "      <td>15.6</td>\n",
       "      <td>82</td>\n",
       "      <td>1</td>\n",
       "      <td>ford mustang gl</td>\n",
       "    </tr>\n",
       "    <tr>\n",
       "      <th>393</th>\n",
       "      <td>44.0</td>\n",
       "      <td>4</td>\n",
       "      <td>97.0</td>\n",
       "      <td>52</td>\n",
       "      <td>2130</td>\n",
       "      <td>24.6</td>\n",
       "      <td>82</td>\n",
       "      <td>2</td>\n",
       "      <td>vw pickup</td>\n",
       "    </tr>\n",
       "    <tr>\n",
       "      <th>394</th>\n",
       "      <td>32.0</td>\n",
       "      <td>4</td>\n",
       "      <td>135.0</td>\n",
       "      <td>84</td>\n",
       "      <td>2295</td>\n",
       "      <td>11.6</td>\n",
       "      <td>82</td>\n",
       "      <td>1</td>\n",
       "      <td>dodge rampage</td>\n",
       "    </tr>\n",
       "    <tr>\n",
       "      <th>395</th>\n",
       "      <td>28.0</td>\n",
       "      <td>4</td>\n",
       "      <td>120.0</td>\n",
       "      <td>79</td>\n",
       "      <td>2625</td>\n",
       "      <td>18.6</td>\n",
       "      <td>82</td>\n",
       "      <td>1</td>\n",
       "      <td>ford ranger</td>\n",
       "    </tr>\n",
       "    <tr>\n",
       "      <th>396</th>\n",
       "      <td>31.0</td>\n",
       "      <td>4</td>\n",
       "      <td>119.0</td>\n",
       "      <td>82</td>\n",
       "      <td>2720</td>\n",
       "      <td>19.4</td>\n",
       "      <td>82</td>\n",
       "      <td>1</td>\n",
       "      <td>chevy s-10</td>\n",
       "    </tr>\n",
       "  </tbody>\n",
       "</table>\n",
       "</div>"
      ],
      "text/plain": [
       "      mpg  cylinders  displacement horsepower  weight  acceleration  year  \\\n",
       "392  27.0          4         140.0         86    2790          15.6    82   \n",
       "393  44.0          4          97.0         52    2130          24.6    82   \n",
       "394  32.0          4         135.0         84    2295          11.6    82   \n",
       "395  28.0          4         120.0         79    2625          18.6    82   \n",
       "396  31.0          4         119.0         82    2720          19.4    82   \n",
       "\n",
       "     origin             name  \n",
       "392       1  ford mustang gl  \n",
       "393       2        vw pickup  \n",
       "394       1    dodge rampage  \n",
       "395       1      ford ranger  \n",
       "396       1       chevy s-10  "
      ]
     },
     "execution_count": 9,
     "metadata": {},
     "output_type": "execute_result"
    }
   ],
   "source": [
    "df.tail()"
   ]
  },
  {
   "cell_type": "code",
   "execution_count": 10,
   "metadata": {},
   "outputs": [
    {
     "data": {
      "text/html": [
       "<div>\n",
       "<style scoped>\n",
       "    .dataframe tbody tr th:only-of-type {\n",
       "        vertical-align: middle;\n",
       "    }\n",
       "\n",
       "    .dataframe tbody tr th {\n",
       "        vertical-align: top;\n",
       "    }\n",
       "\n",
       "    .dataframe thead th {\n",
       "        text-align: right;\n",
       "    }\n",
       "</style>\n",
       "<table border=\"1\" class=\"dataframe\">\n",
       "  <thead>\n",
       "    <tr style=\"text-align: right;\">\n",
       "      <th></th>\n",
       "      <th>mpg</th>\n",
       "      <th>cylinders</th>\n",
       "      <th>displacement</th>\n",
       "      <th>weight</th>\n",
       "      <th>acceleration</th>\n",
       "      <th>year</th>\n",
       "      <th>origin</th>\n",
       "    </tr>\n",
       "  </thead>\n",
       "  <tbody>\n",
       "    <tr>\n",
       "      <th>count</th>\n",
       "      <td>397.000000</td>\n",
       "      <td>397.000000</td>\n",
       "      <td>397.000000</td>\n",
       "      <td>397.000000</td>\n",
       "      <td>397.000000</td>\n",
       "      <td>397.000000</td>\n",
       "      <td>397.000000</td>\n",
       "    </tr>\n",
       "    <tr>\n",
       "      <th>mean</th>\n",
       "      <td>23.515869</td>\n",
       "      <td>5.458438</td>\n",
       "      <td>193.532746</td>\n",
       "      <td>2970.261965</td>\n",
       "      <td>15.555668</td>\n",
       "      <td>75.994962</td>\n",
       "      <td>1.574307</td>\n",
       "    </tr>\n",
       "    <tr>\n",
       "      <th>std</th>\n",
       "      <td>7.825804</td>\n",
       "      <td>1.701577</td>\n",
       "      <td>104.379583</td>\n",
       "      <td>847.904119</td>\n",
       "      <td>2.749995</td>\n",
       "      <td>3.690005</td>\n",
       "      <td>0.802549</td>\n",
       "    </tr>\n",
       "    <tr>\n",
       "      <th>min</th>\n",
       "      <td>9.000000</td>\n",
       "      <td>3.000000</td>\n",
       "      <td>68.000000</td>\n",
       "      <td>1613.000000</td>\n",
       "      <td>8.000000</td>\n",
       "      <td>70.000000</td>\n",
       "      <td>1.000000</td>\n",
       "    </tr>\n",
       "    <tr>\n",
       "      <th>25%</th>\n",
       "      <td>17.500000</td>\n",
       "      <td>4.000000</td>\n",
       "      <td>104.000000</td>\n",
       "      <td>2223.000000</td>\n",
       "      <td>13.800000</td>\n",
       "      <td>73.000000</td>\n",
       "      <td>1.000000</td>\n",
       "    </tr>\n",
       "    <tr>\n",
       "      <th>50%</th>\n",
       "      <td>23.000000</td>\n",
       "      <td>4.000000</td>\n",
       "      <td>146.000000</td>\n",
       "      <td>2800.000000</td>\n",
       "      <td>15.500000</td>\n",
       "      <td>76.000000</td>\n",
       "      <td>1.000000</td>\n",
       "    </tr>\n",
       "    <tr>\n",
       "      <th>75%</th>\n",
       "      <td>29.000000</td>\n",
       "      <td>8.000000</td>\n",
       "      <td>262.000000</td>\n",
       "      <td>3609.000000</td>\n",
       "      <td>17.100000</td>\n",
       "      <td>79.000000</td>\n",
       "      <td>2.000000</td>\n",
       "    </tr>\n",
       "    <tr>\n",
       "      <th>max</th>\n",
       "      <td>46.600000</td>\n",
       "      <td>8.000000</td>\n",
       "      <td>455.000000</td>\n",
       "      <td>5140.000000</td>\n",
       "      <td>24.800000</td>\n",
       "      <td>82.000000</td>\n",
       "      <td>3.000000</td>\n",
       "    </tr>\n",
       "  </tbody>\n",
       "</table>\n",
       "</div>"
      ],
      "text/plain": [
       "              mpg   cylinders  displacement       weight  acceleration  \\\n",
       "count  397.000000  397.000000    397.000000   397.000000    397.000000   \n",
       "mean    23.515869    5.458438    193.532746  2970.261965     15.555668   \n",
       "std      7.825804    1.701577    104.379583   847.904119      2.749995   \n",
       "min      9.000000    3.000000     68.000000  1613.000000      8.000000   \n",
       "25%     17.500000    4.000000    104.000000  2223.000000     13.800000   \n",
       "50%     23.000000    4.000000    146.000000  2800.000000     15.500000   \n",
       "75%     29.000000    8.000000    262.000000  3609.000000     17.100000   \n",
       "max     46.600000    8.000000    455.000000  5140.000000     24.800000   \n",
       "\n",
       "             year      origin  \n",
       "count  397.000000  397.000000  \n",
       "mean    75.994962    1.574307  \n",
       "std      3.690005    0.802549  \n",
       "min     70.000000    1.000000  \n",
       "25%     73.000000    1.000000  \n",
       "50%     76.000000    1.000000  \n",
       "75%     79.000000    2.000000  \n",
       "max     82.000000    3.000000  "
      ]
     },
     "execution_count": 10,
     "metadata": {},
     "output_type": "execute_result"
    }
   ],
   "source": [
    "df.describe()"
   ]
  },
  {
   "cell_type": "code",
   "execution_count": 11,
   "metadata": {},
   "outputs": [
    {
     "name": "stdout",
     "output_type": "stream",
     "text": [
      "<class 'pandas.core.frame.DataFrame'>\n",
      "RangeIndex: 397 entries, 0 to 396\n",
      "Data columns (total 9 columns):\n",
      " #   Column        Non-Null Count  Dtype  \n",
      "---  ------        --------------  -----  \n",
      " 0   mpg           397 non-null    float64\n",
      " 1   cylinders     397 non-null    int64  \n",
      " 2   displacement  397 non-null    float64\n",
      " 3   horsepower    397 non-null    object \n",
      " 4   weight        397 non-null    int64  \n",
      " 5   acceleration  397 non-null    float64\n",
      " 6   year          397 non-null    int64  \n",
      " 7   origin        397 non-null    int64  \n",
      " 8   name          397 non-null    object \n",
      "dtypes: float64(3), int64(4), object(2)\n",
      "memory usage: 28.0+ KB\n"
     ]
    }
   ],
   "source": [
    "df.info()"
   ]
  },
  {
   "cell_type": "code",
   "execution_count": 12,
   "metadata": {},
   "outputs": [
    {
     "data": {
      "text/plain": [
       "mpg             0\n",
       "cylinders       0\n",
       "displacement    0\n",
       "horsepower      0\n",
       "weight          0\n",
       "acceleration    0\n",
       "year            0\n",
       "origin          0\n",
       "name            0\n",
       "dtype: int64"
      ]
     },
     "execution_count": 12,
     "metadata": {},
     "output_type": "execute_result"
    }
   ],
   "source": [
    "# Check for missing values\n",
    "df.isnull().sum()"
   ]
  },
  {
   "cell_type": "code",
   "execution_count": 13,
   "metadata": {},
   "outputs": [],
   "source": [
    "# convert the \"horsepower\" column to a numerical data type\n",
    "df['horsepower'] = pd.to_numeric(df['horsepower'], errors='coerce')"
   ]
  },
  {
   "cell_type": "code",
   "execution_count": 14,
   "metadata": {},
   "outputs": [
    {
     "name": "stdout",
     "output_type": "stream",
     "text": [
      "The 'name' column has been successfully dropped from the DataFrame.\n"
     ]
    }
   ],
   "source": [
    "# Check if the \"name\" column is in the list of columns\n",
    "if 'name' in df.columns:\n",
    "    df.drop('name', axis=1, inplace=True)\n",
    "    print(\"The 'name' column has been successfully dropped from the DataFrame.\")\n",
    "else:\n",
    "    print(\"The 'name' column was not found in the DataFrame.\")"
   ]
  },
  {
   "cell_type": "code",
   "execution_count": 15,
   "metadata": {},
   "outputs": [
    {
     "name": "stdout",
     "output_type": "stream",
     "text": [
      "<class 'pandas.core.frame.DataFrame'>\n",
      "RangeIndex: 397 entries, 0 to 396\n",
      "Data columns (total 8 columns):\n",
      " #   Column        Non-Null Count  Dtype  \n",
      "---  ------        --------------  -----  \n",
      " 0   mpg           397 non-null    float64\n",
      " 1   cylinders     397 non-null    int64  \n",
      " 2   displacement  397 non-null    float64\n",
      " 3   horsepower    392 non-null    float64\n",
      " 4   weight        397 non-null    int64  \n",
      " 5   acceleration  397 non-null    float64\n",
      " 6   year          397 non-null    int64  \n",
      " 7   origin        397 non-null    int64  \n",
      "dtypes: float64(4), int64(4)\n",
      "memory usage: 24.9 KB\n"
     ]
    }
   ],
   "source": [
    "df.info()"
   ]
  },
  {
   "cell_type": "code",
   "execution_count": 16,
   "metadata": {},
   "outputs": [],
   "source": [
    "# replace NAN with median\n",
    "median_horsepower = df['horsepower'].median()\n",
    "df['horsepower'].fillna(median_horsepower, inplace=True)"
   ]
  },
  {
   "cell_type": "code",
   "execution_count": 17,
   "metadata": {},
   "outputs": [
    {
     "name": "stdout",
     "output_type": "stream",
     "text": [
      "[130.  165.  150.  140.  198.  220.  215.  225.  190.  170.  160.   95.\n",
      "  97.   85.   88.   46.   87.   90.  113.  200.  210.  193.   93.5 100.\n",
      " 105.  175.  153.  180.  110.   72.   86.   70.   76.   65.   69.   60.\n",
      "  80.   54.  208.  155.  112.   92.  145.  137.  158.  167.   94.  107.\n",
      " 230.   49.   75.   91.  122.   67.   83.   78.   52.   61.   93.  148.\n",
      " 129.   96.   71.   98.  115.   53.   81.   79.  120.  152.  102.  108.\n",
      "  68.   58.  149.   89.   63.   48.   66.  139.  103.  125.  133.  138.\n",
      " 135.  142.   77.   62.  132.   84.   64.   74.  116.   82. ]\n"
     ]
    }
   ],
   "source": [
    "print(df['horsepower'].unique())"
   ]
  },
  {
   "cell_type": "code",
   "execution_count": 18,
   "metadata": {},
   "outputs": [
    {
     "name": "stdout",
     "output_type": "stream",
     "text": [
      "<class 'pandas.core.frame.DataFrame'>\n",
      "RangeIndex: 397 entries, 0 to 396\n",
      "Data columns (total 8 columns):\n",
      " #   Column        Non-Null Count  Dtype  \n",
      "---  ------        --------------  -----  \n",
      " 0   mpg           397 non-null    float64\n",
      " 1   cylinders     397 non-null    int64  \n",
      " 2   displacement  397 non-null    float64\n",
      " 3   horsepower    397 non-null    float64\n",
      " 4   weight        397 non-null    int64  \n",
      " 5   acceleration  397 non-null    float64\n",
      " 6   year          397 non-null    int64  \n",
      " 7   origin        397 non-null    int64  \n",
      "dtypes: float64(4), int64(4)\n",
      "memory usage: 24.9 KB\n"
     ]
    }
   ],
   "source": [
    "df.info()"
   ]
  },
  {
   "cell_type": "markdown",
   "metadata": {
    "id": "jbzD19JRCPcq"
   },
   "source": [
    "### a) Split the data set into a training set and a test set."
   ]
  },
  {
   "cell_type": "code",
   "execution_count": 19,
   "metadata": {
    "id": "z2VPQlRTEFSx"
   },
   "outputs": [
    {
     "name": "stdout",
     "output_type": "stream",
     "text": [
      "X_train shape: (317, 5)\n",
      "Y_train shape: (317,)\n",
      "X_test shape: (80, 5)\n",
      "Y_test shape: (80,)\n"
     ]
    }
   ],
   "source": [
    "# BEGIN SOLUTION\n",
    "from sklearn.model_selection import train_test_split\n",
    "\n",
    "# Define your feature matrix X and target variable Y\n",
    "X = df[['mpg', 'cylinders', 'horsepower', 'weight', 'year']]\n",
    "Y = df['acceleration']\n",
    "\n",
    "# Split the data into a training set and a test set (e.g., 80% train, 20% test)\n",
    "X_train, X_test, Y_train, Y_test = train_test_split(X, Y, test_size=0.2, random_state=42)\n",
    "\n",
    "# X_train and Y_train are your training data, and X_test and Y_test are your test data\n",
    "\n",
    "# Print the shape of training and test sets\n",
    "print(\"X_train shape:\", X_train.shape)\n",
    "print(\"Y_train shape:\", Y_train.shape)\n",
    "print(\"X_test shape:\", X_test.shape)\n",
    "print(\"Y_test shape:\", Y_test.shape)\n",
    "\n",
    "# END SOLUTION"
   ]
  },
  {
   "cell_type": "markdown",
   "metadata": {
    "id": "edftCrWqf5uC"
   },
   "source": [
    "### b) Fit a linear model using least squares on the training set, and report the test error obtained.\n",
    "Link to linear model: https://scikit-learn.org/stable/modules/generated/sklearn.linear_model.LinearRegression.html\n"
   ]
  },
  {
   "cell_type": "code",
   "execution_count": 20,
   "metadata": {
    "id": "3Bob99XBf2p7"
   },
   "outputs": [
    {
     "name": "stdout",
     "output_type": "stream",
     "text": [
      "Test Error (Mean Squared Error): 2.408689224576417\n"
     ]
    }
   ],
   "source": [
    "#BEGIN SOLUTION\n",
    "\n",
    "# 1. Fit the Linear Model on the Training Set\n",
    "linear_model = LinearRegression()\n",
    "linear_model.fit(X_train, Y_train)\n",
    "\n",
    "# 2. Make Predictions on the Test Set\n",
    "Y_pred = linear_model.predict(X_test)\n",
    "\n",
    "# 3. Calculate the Test Error (Mean Squared Error)\n",
    "test_error = mean_squared_error(Y_test, Y_pred)\n",
    "\n",
    "# Report the test error\n",
    "print(\"Test Error (Mean Squared Error):\", test_error)\n",
    "\n",
    "# END SOLUTION"
   ]
  },
  {
   "cell_type": "code",
   "execution_count": 21,
   "metadata": {},
   "outputs": [
    {
     "name": "stdout",
     "output_type": "stream",
     "text": [
      "mpg 0.011988756648252743\n",
      "cylinders -0.408961573646553\n",
      "horsepower -0.08927860662657529\n",
      "weight 0.0029428159857197273\n",
      "year -0.04521192827873126\n"
     ]
    }
   ],
   "source": [
    "# Get the coefficients of the linear model\n",
    "coefficients = linear_model.coef_\n",
    "\n",
    "# Print feature coefficients\n",
    "for i in range(len(X_train.columns)):\n",
    "    feature = X_train.columns[i]\n",
    "    coefficient = coefficients[i]\n",
    "    print(feature, coefficient)"
   ]
  },
  {
   "cell_type": "markdown",
   "metadata": {
    "id": "pdea7OyMhAw6"
   },
   "source": [
    "### c) Fit a ridge regression model on the training set, with $\\lambda$ chosen by cross-validation. Report the test error obtained.\n",
    "\n",
    "Link to ridge regresion : https://scikit-learn.org/stable/modules/generated/sklearn.linear_model.Ridge.html"
   ]
  },
  {
   "cell_type": "code",
   "execution_count": 22,
   "metadata": {},
   "outputs": [
    {
     "name": "stdout",
     "output_type": "stream",
     "text": [
      "Test Error (Mean Squared Error): 2.4068308150637705\n"
     ]
    }
   ],
   "source": [
    "#BEGIN SOLUTION\n",
    "\n",
    "# Initialize RidgeCV with a list of alpha (λ) values to cross-validate\n",
    "alphas = [0.01, 0.1, 1.0, 10.0]\n",
    "ridge_model = RidgeCV(alphas=alphas, store_cv_values=True)\n",
    "\n",
    "# Fit the Ridge model on the training set\n",
    "ridge_model.fit(X_train, Y_train)\n",
    "\n",
    "# Find the best alpha (λ) chosen by cross-validation\n",
    "best_alpha = ridge_model.alpha_\n",
    "\n",
    "# Make predictions on the test set\n",
    "Y_pred = ridge_model.predict(X_test)\n",
    "\n",
    "# Calculate the test error (Mean Squared Error)\n",
    "test_error = mean_squared_error(Y_test, Y_pred)\n",
    "\n",
    "# Report the results\n",
    "print(\"Test Error (Mean Squared Error):\", test_error)\n",
    "\n",
    "\n",
    "# END SOLUTION"
   ]
  },
  {
   "cell_type": "markdown",
   "metadata": {
    "id": "Q-Y4EBqihWnB"
   },
   "source": [
    "### d) Fit a lasso model on the training set, with $\\lambda$ chosen by cross-validation. Report the test error obtained, along with the number of non-zero coefficient estimates.\n",
    " Link to lasso :https://scikit-learn.org/0.15/modules/generated/sklearn.linear_model.Lasso.html"
   ]
  },
  {
   "cell_type": "code",
   "execution_count": 23,
   "metadata": {},
   "outputs": [
    {
     "name": "stdout",
     "output_type": "stream",
     "text": [
      "Test Error (Mean Squared Error): 2.409760851606227\n",
      "Number of non-zero coefficient estimates: 5\n"
     ]
    }
   ],
   "source": [
    "#BEGIN SOLUTION\n",
    "\n",
    "# Initialize LassoCV with a list of alpha (λ) values to cross-validate\n",
    "alphas = [0.01, 0.1, 1.0, 10.0]\n",
    "lasso_model = LassoCV(alphas=alphas, cv=5)\n",
    "\n",
    "# Fit the Lasso model on the training set\n",
    "lasso_model.fit(X_train, Y_train)\n",
    "\n",
    "# Find the best alpha (λ) chosen by cross-validation\n",
    "best_alpha = lasso_model.alpha_\n",
    "\n",
    "# Make predictions on the test set\n",
    "Y_pred = lasso_model.predict(X_test)\n",
    "\n",
    "# Calculate the test error (Mean Squared Error)\n",
    "test_error = mean_squared_error(Y_test, Y_pred)\n",
    "\n",
    "# Number of non-zero coefficient estimates\n",
    "non_zero_coefficients = np.sum(lasso_model.coef_ != 0)\n",
    "\n",
    "# Report the results\n",
    "print(\"Test Error (Mean Squared Error):\", test_error)\n",
    "print(\"Number of non-zero coefficient estimates:\", non_zero_coefficients)\n",
    "\n",
    "# END SOLUTION"
   ]
  }
 ],
 "metadata": {
  "colab": {
   "provenance": []
  },
  "kernelspec": {
   "display_name": "Python 3 (ipykernel)",
   "language": "python",
   "name": "python3"
  },
  "language_info": {
   "codemirror_mode": {
    "name": "ipython",
    "version": 3
   },
   "file_extension": ".py",
   "mimetype": "text/x-python",
   "name": "python",
   "nbconvert_exporter": "python",
   "pygments_lexer": "ipython3",
   "version": "3.9.13"
  }
 },
 "nbformat": 4,
 "nbformat_minor": 1
}
